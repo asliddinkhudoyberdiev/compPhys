{
 "cells": [
  {
   "cell_type": "code",
   "execution_count": 102,
   "metadata": {},
   "outputs": [],
   "source": [
    "import numpy as np\n",
    "from matplotlib import pyplot as plt\n",
    "from matplotlib import rc\n",
    "rc('text',usetex=True)\n",
    "rc('font',**{'family':'serif','serif':['Computer Modern']})\n",
    "plt.rc('xtick',labelsize=14)\n",
    "plt.rc('ytick',labelsize=14)\n",
    "font={'weight':'bold','size':14}\n",
    "plt.rc('font',**font)\n",
    "import time\n",
    "from scipy import linalg"
   ]
  },
  {
   "cell_type": "markdown",
   "metadata": {},
   "source": [
    "# Aufgabe 2\n",
    "# a/b/c\n",
    "\\begin{equation}\n",
    "y_i=x_{i+1}-x_i-l_i   \\tag{1}\n",
    "\\end{equation}\n",
    "\n",
    "\\begin{equation}\n",
    "m_1\\\"x_1=k_1(x_2-x_1-l_1)  \\rightarrow \\qquad m_1\\\"x_1=k_1y_1  \\tag{2}\n",
    "\\end{equation}\n",
    "\n",
    "\\begin{equation}\n",
    "m_i\\\"x_i=k_i(x_{i+1}-x_i-l_i)-k_{i-1}(x_i-x_{i-1}-l_{i-1})  \\rightarrow \\qquad m_i\\\"x_i=k_iy_i-k_{i-1}y_{i-1}  \\tag{3}\n",
    "\\end{equation}\n",
    "\n",
    "\n",
    "\\begin{equation}\n",
    "m_N\\\"x_N=-k_{N-1}(x_{N}-x_{N-1}-l_{N-1})   \\rightarrow \\qquad m_N\\\"x_N=-k_{N-1}y_{N-1}  \\tag{4}\n",
    "\\end{equation}\n",
    "\n",
    "\\begin{equation}\n",
    "y_i=A_ie^{i\\omega t} \\qquad   \\\"y_i=-\\omega^2y_i            \\tag{5}\n",
    "\\end{equation}\n",
    "\n",
    "\n"
   ]
  },
  {
   "cell_type": "code",
   "execution_count": 103,
   "metadata": {},
   "outputs": [],
   "source": [
    "def Construct_Matrix(mi,ki):\n",
    "    N=len(mi)\n",
    "    mat_k=np.zeros((N,N))\n",
    "    mat_m=np.eye(N)*mi\n",
    "    mat_k[0,0]=ki[0]     #first\n",
    "    mat_k[N-1,N-2]=-ki[-1]   #last\n",
    "    for i in range(1,N-1):    #from 2 to N-2\n",
    "        mat_k[i,i-1]=-ki[i-1]\n",
    "        mat_k[i,i]=ki[i]\n",
    "    return mat_m,mat_k"
   ]
  },
  {
   "cell_type": "code",
   "execution_count": 104,
   "metadata": {},
   "outputs": [],
   "source": [
    "def Max_off_Diag(MatrixK):\n",
    "    n=len(MatrixK)\n",
    "    max_off_diag=0.0\n",
    "    k=0\n",
    "    l=0\n",
    "    for i in range(1,n):       # all the rows exept first and last\n",
    "        for j in range(0,i):\n",
    "            if abs(MatrixK[i,j])>max_off_diag:\n",
    "                max_off_diag=abs(MatrixK[i,j])\n",
    "                k=i\n",
    "                l=j\n",
    "    return max_off_diag,k,l\n",
    "\n",
    "def Jacobi_rotation(MatrixK,N_iter,eps):\n",
    "    n=len(MatrixK)\n",
    "    eig_Vec=np.eye(n)\n",
    "    for i in range(N_iter):\n",
    "        max_off_diag,k,l=Max_off_Diag(MatrixK)\n",
    "        if max_off_diag<eps:\n",
    "            return np.diag(MatrixK),eig_Vec\n",
    "\n",
    "        phi=0.5*np.arctan2(2.0*MatrixK[k,l],MatrixK[l,l]-MatrixK[k,k])\n",
    "        c=np.cos(phi)\n",
    "        s=np.sin(phi)\n",
    "        P=np.eye(n)\n",
    "        P[k,k]=c\n",
    "        P[l,l]=c\n",
    "        P[k,l]=-s\n",
    "        P[l,k]=s\n",
    "        MatrixK=P.T@MatrixK@P\n",
    "        eig_Vec=eig_Vec@P\n",
    "    return np.diag(MatrixK),eig_Vec          "
   ]
  },
  {
   "cell_type": "code",
   "execution_count": 105,
   "metadata": {},
   "outputs": [
    {
     "name": "stdout",
     "output_type": "stream",
     "text": [
      "[0.07705005 0.21939009 0.04005394 0.04331771 0.13030884 0.32113238\n",
      " 0.10824027 0.11980127 1.00856258 0.        ]\n"
     ]
    }
   ],
   "source": [
    "N=10\n",
    "m = np.array([i for i in range(1,N+1)])\n",
    "k=[]\n",
    "for n in range(1,N-1):\n",
    "    k.append(1.0)\n",
    "    k.append(1.0/(abs(5-n)+1.0))\n",
    "m_mat,k_mat=Construct_Matrix(m,k)\n",
    "\n",
    "\n",
    "eigvals, eigvecs = Jacobi_rotation(np.linalg.inv(m_mat) @ k_mat,1000,1e-10)\n",
    "print(eigvals)\n"
   ]
  },
  {
   "cell_type": "code",
   "execution_count": 106,
   "metadata": {},
   "outputs": [
    {
     "name": "stdout",
     "output_type": "stream",
     "text": [
      "[0.        +0.j 0.11111111+0.j 0.0625    +0.j 0.14285714+0.j\n",
      " 0.05555556+0.j 0.2       +0.j 0.0625    +0.j 0.33333333+0.j\n",
      " 0.1       +0.j 1.        +0.j]\n"
     ]
    }
   ],
   "source": [
    "eigvals_scipy= linalg.eigvals(np.linalg.inv(m_mat) @ k_mat)\n",
    "print(eigvals_scipy)"
   ]
  },
  {
   "cell_type": "markdown",
   "metadata": {},
   "source": [
    "For some reason, they are different"
   ]
  }
 ],
 "metadata": {
  "interpreter": {
   "hash": "f844e863be144792a7fa38f01854f805dc80e1f7605b5574c177aa3fd6c121ae"
  },
  "kernelspec": {
   "display_name": "Python 3.9.13 ('base')",
   "language": "python",
   "name": "python3"
  },
  "language_info": {
   "codemirror_mode": {
    "name": "ipython",
    "version": 3
   },
   "file_extension": ".py",
   "mimetype": "text/x-python",
   "name": "python",
   "nbconvert_exporter": "python",
   "pygments_lexer": "ipython3",
   "version": "3.9.13"
  },
  "orig_nbformat": 4
 },
 "nbformat": 4,
 "nbformat_minor": 2
}
