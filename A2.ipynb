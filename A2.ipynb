{
 "cells": [
  {
   "cell_type": "code",
   "execution_count": 22,
   "metadata": {},
   "outputs": [],
   "source": [
    "import numpy as np\n",
    "from matplotlib import pyplot as plt\n",
    "from matplotlib import rc\n",
    "rc('text',usetex=True)\n",
    "rc('font',**{'family':'serif','serif':['Computer Modern']})\n",
    "plt.rc('xtick',labelsize=14)\n",
    "plt.rc('ytick',labelsize=14)\n",
    "font={'weight':'bold','size':14}\n",
    "plt.rc('font',**font)\n",
    "import time\n",
    "from scipy import linalg"
   ]
  },
  {
   "cell_type": "markdown",
   "metadata": {},
   "source": [
    "# Aufgabe 2\n",
    "# a/b/c\n",
    "\\begin{equation}\n",
    "y_i=x_{i+1}-x_i-l_i   \\tag{1}\n",
    "\\end{equation}\n",
    "\n",
    "\\begin{equation}\n",
    "m_1\\\"x_1=k_1(x_2-x_1-l_1)  \\rightarrow \\qquad m_1\\\"x_1=k_1y_1  \\tag{2}\n",
    "\\end{equation}\n",
    "\n",
    "\\begin{equation}\n",
    "m_i\\\"x_i=k_i(x_{i+1}-x_i-l_i)-k_{i-1}(x_i-x_{i-1}-l_{i-1})  \\rightarrow \\qquad m_i\\\"x_i=k_iy_i-k_{i-1}y_{i-1}  \\tag{3}\n",
    "\\end{equation}\n",
    "\n",
    "\n",
    "\\begin{equation}\n",
    "m_N\\\"x_N=-k_{N-1}(x_{N}-x_{N-1}-l_{N-1})   \\rightarrow \\qquad m_N\\\"x_N=-k_{N-1}y_{N-1}  \\tag{4}\n",
    "\\end{equation}\n",
    "\n",
    "\\begin{equation}\n",
    "y_i=A_ie^{i\\omega t} \\qquad   \\\"y_i=-\\omega^2y_i            \\tag{5}\n",
    "\\end{equation}\n",
    "\n",
    "\n"
   ]
  },
  {
   "cell_type": "code",
   "execution_count": 130,
   "metadata": {},
   "outputs": [
    {
     "ename": "IndexError",
     "evalue": "list index out of range",
     "output_type": "error",
     "traceback": [
      "\u001b[0;31m---------------------------------------------------------------------------\u001b[0m",
      "\u001b[0;31mIndexError\u001b[0m                                Traceback (most recent call last)",
      "\u001b[0;32m/tmp/ipykernel_59013/2509901814.py\u001b[0m in \u001b[0;36m<module>\u001b[0;34m\u001b[0m\n\u001b[1;32m     18\u001b[0m \u001b[0;32mfor\u001b[0m \u001b[0mn\u001b[0m \u001b[0;32min\u001b[0m \u001b[0mrange\u001b[0m\u001b[0;34m(\u001b[0m\u001b[0;36m1\u001b[0m\u001b[0;34m,\u001b[0m\u001b[0mN\u001b[0m\u001b[0;34m-\u001b[0m\u001b[0;36m1\u001b[0m\u001b[0;34m)\u001b[0m\u001b[0;34m:\u001b[0m\u001b[0;34m\u001b[0m\u001b[0;34m\u001b[0m\u001b[0m\n\u001b[1;32m     19\u001b[0m     \u001b[0mk\u001b[0m\u001b[0;34m.\u001b[0m\u001b[0mappend\u001b[0m\u001b[0;34m(\u001b[0m\u001b[0;36m1.0\u001b[0m\u001b[0;34m/\u001b[0m\u001b[0;34m(\u001b[0m\u001b[0mabs\u001b[0m\u001b[0;34m(\u001b[0m\u001b[0;36m5\u001b[0m\u001b[0;34m-\u001b[0m\u001b[0mn\u001b[0m\u001b[0;34m)\u001b[0m\u001b[0;34m+\u001b[0m\u001b[0;36m1.0\u001b[0m\u001b[0;34m)\u001b[0m\u001b[0;34m)\u001b[0m\u001b[0;34m\u001b[0m\u001b[0;34m\u001b[0m\u001b[0m\n\u001b[0;32m---> 20\u001b[0;31m \u001b[0mk_mat\u001b[0m\u001b[0;34m=\u001b[0m\u001b[0mConstruct_Matrix\u001b[0m\u001b[0;34m(\u001b[0m\u001b[0mm\u001b[0m\u001b[0;34m,\u001b[0m\u001b[0mk\u001b[0m\u001b[0;34m)\u001b[0m\u001b[0;34m\u001b[0m\u001b[0;34m\u001b[0m\u001b[0m\n\u001b[0m\u001b[1;32m     21\u001b[0m \u001b[0mprint\u001b[0m\u001b[0;34m(\u001b[0m\u001b[0mk_mat\u001b[0m\u001b[0;34m)\u001b[0m\u001b[0;34m\u001b[0m\u001b[0;34m\u001b[0m\u001b[0m\n\u001b[1;32m     22\u001b[0m \u001b[0meigVal\u001b[0m\u001b[0;34m=\u001b[0m\u001b[0mlinalg\u001b[0m\u001b[0;34m.\u001b[0m\u001b[0meigvals\u001b[0m\u001b[0;34m(\u001b[0m\u001b[0mk_mat\u001b[0m\u001b[0;34m)\u001b[0m\u001b[0;34m\u001b[0m\u001b[0;34m\u001b[0m\u001b[0m\n",
      "\u001b[0;32m/tmp/ipykernel_59013/2509901814.py\u001b[0m in \u001b[0;36mConstruct_Matrix\u001b[0;34m(mi, ki)\u001b[0m\n\u001b[1;32m      7\u001b[0m         \u001b[0mmat_k\u001b[0m\u001b[0;34m[\u001b[0m\u001b[0mi\u001b[0m\u001b[0;34m,\u001b[0m\u001b[0mi\u001b[0m\u001b[0;34m-\u001b[0m\u001b[0;36m1\u001b[0m\u001b[0;34m]\u001b[0m\u001b[0;34m=\u001b[0m\u001b[0;34m-\u001b[0m\u001b[0mk\u001b[0m\u001b[0;34m[\u001b[0m\u001b[0mi\u001b[0m\u001b[0;34m-\u001b[0m\u001b[0;36m1\u001b[0m\u001b[0;34m]\u001b[0m\u001b[0;34m/\u001b[0m\u001b[0mm\u001b[0m\u001b[0;34m[\u001b[0m\u001b[0mi\u001b[0m\u001b[0;34m]\u001b[0m\u001b[0;34m\u001b[0m\u001b[0;34m\u001b[0m\u001b[0m\n\u001b[1;32m      8\u001b[0m         \u001b[0mmat_k\u001b[0m\u001b[0;34m[\u001b[0m\u001b[0mi\u001b[0m\u001b[0;34m,\u001b[0m\u001b[0mi\u001b[0m\u001b[0;34m]\u001b[0m\u001b[0;34m=\u001b[0m\u001b[0mk\u001b[0m\u001b[0;34m[\u001b[0m\u001b[0mi\u001b[0m\u001b[0;34m]\u001b[0m\u001b[0;34m/\u001b[0m\u001b[0mm\u001b[0m\u001b[0;34m[\u001b[0m\u001b[0mi\u001b[0m\u001b[0;34m]\u001b[0m\u001b[0;34m+\u001b[0m\u001b[0mk\u001b[0m\u001b[0;34m[\u001b[0m\u001b[0mi\u001b[0m\u001b[0;34m]\u001b[0m\u001b[0;34m/\u001b[0m\u001b[0mm\u001b[0m\u001b[0;34m[\u001b[0m\u001b[0mi\u001b[0m\u001b[0;34m+\u001b[0m\u001b[0;36m1\u001b[0m\u001b[0;34m]\u001b[0m\u001b[0;34m\u001b[0m\u001b[0;34m\u001b[0m\u001b[0m\n\u001b[0;32m----> 9\u001b[0;31m         \u001b[0mmat_k\u001b[0m\u001b[0;34m[\u001b[0m\u001b[0mi\u001b[0m\u001b[0;34m,\u001b[0m\u001b[0mi\u001b[0m\u001b[0;34m+\u001b[0m\u001b[0;36m1\u001b[0m\u001b[0;34m]\u001b[0m\u001b[0;34m=\u001b[0m\u001b[0;34m-\u001b[0m\u001b[0mk\u001b[0m\u001b[0;34m[\u001b[0m\u001b[0mi\u001b[0m\u001b[0;34m+\u001b[0m\u001b[0;36m1\u001b[0m\u001b[0;34m]\u001b[0m\u001b[0;34m/\u001b[0m\u001b[0mm\u001b[0m\u001b[0;34m[\u001b[0m\u001b[0mi\u001b[0m\u001b[0;34m+\u001b[0m\u001b[0;36m1\u001b[0m\u001b[0;34m]\u001b[0m\u001b[0;34m\u001b[0m\u001b[0;34m\u001b[0m\u001b[0m\n\u001b[0m\u001b[1;32m     10\u001b[0m     \u001b[0mmat_k\u001b[0m\u001b[0;34m[\u001b[0m\u001b[0mN\u001b[0m\u001b[0;34m-\u001b[0m\u001b[0;36m1\u001b[0m\u001b[0;34m,\u001b[0m\u001b[0mN\u001b[0m\u001b[0;34m-\u001b[0m\u001b[0;36m2\u001b[0m\u001b[0;34m]\u001b[0m\u001b[0;34m=\u001b[0m\u001b[0mk\u001b[0m\u001b[0;34m[\u001b[0m\u001b[0mN\u001b[0m\u001b[0;34m-\u001b[0m\u001b[0;36m2\u001b[0m\u001b[0;34m]\u001b[0m\u001b[0;34m/\u001b[0m\u001b[0mm\u001b[0m\u001b[0;34m[\u001b[0m\u001b[0mN\u001b[0m\u001b[0;34m-\u001b[0m\u001b[0;36m1\u001b[0m\u001b[0;34m]\u001b[0m\u001b[0;34m\u001b[0m\u001b[0;34m\u001b[0m\u001b[0m\n\u001b[1;32m     11\u001b[0m     \u001b[0mmat_k\u001b[0m\u001b[0;34m[\u001b[0m\u001b[0mN\u001b[0m\u001b[0;34m-\u001b[0m\u001b[0;36m1\u001b[0m\u001b[0;34m,\u001b[0m\u001b[0mN\u001b[0m\u001b[0;34m-\u001b[0m\u001b[0;36m1\u001b[0m\u001b[0;34m]\u001b[0m\u001b[0;34m=\u001b[0m\u001b[0mk\u001b[0m\u001b[0;34m[\u001b[0m\u001b[0mN\u001b[0m\u001b[0;34m-\u001b[0m\u001b[0;36m1\u001b[0m\u001b[0;34m]\u001b[0m\u001b[0;34m/\u001b[0m\u001b[0mm\u001b[0m\u001b[0;34m[\u001b[0m\u001b[0mN\u001b[0m\u001b[0;34m]\u001b[0m\u001b[0;34m\u001b[0m\u001b[0;34m\u001b[0m\u001b[0m\n",
      "\u001b[0;31mIndexError\u001b[0m: list index out of range"
     ]
    }
   ],
   "source": [
    "def Construct_Matrix(mi,ki):\n",
    "    N=len(mi)\n",
    "    mat_k=np.zeros((N,N))\n",
    "    mat_k[0,0]=(ki[0]/mi[1]+ki[0]/mi[0])\n",
    "    mat_k[0,1]=-ki[1]/mi[1]     #first\n",
    "    for i in range(1,N-1):\n",
    "        mat_k[i,i-1]=-k[i-1]/m[i]\n",
    "        mat_k[i,i]=k[i]/m[i]+k[i]/m[i+1]\n",
    "        mat_k[i,i+1]=-k[i+1]/m[i+1]\n",
    "    mat_k[N-1,N-2]=k[N-2]/m[N-2]\n",
    "    mat_k[N-1,N-1]=k[N-2]/m[N-1]\n",
    "    return mat_k\n",
    "\n",
    "N=3\n",
    "m = np.array([i for i in range(1,N+1)])\n",
    "k=[]\n",
    "k.append(1.0)\n",
    "for n in range(1,N-1):\n",
    "    k.append(1.0/(abs(5-n)+1.0))\n",
    "k_mat=Construct_Matrix(m,k)\n",
    "print(k_mat)\n",
    "eigVal=linalg.eigvals(k_mat)\n",
    "eig_real=np.real(eigVal)\n",
    "print(eig_real)\n",
    "eigenfreq=np.sqrt(eig_real)\n",
    "print(eigenfreq)"
   ]
  },
  {
   "cell_type": "code",
   "execution_count": null,
   "metadata": {},
   "outputs": [],
   "source": [
    "def Max_off_Diag(MatrixK):\n",
    "    n=len(MatrixK)\n",
    "    max_off_diag=0.0\n",
    "    k=0\n",
    "    l=0\n",
    "    for i in range(1,n):       # all the rows exept first and last\n",
    "        for j in range(0,i):\n",
    "            if abs(MatrixK[i,j])>max_off_diag:\n",
    "                max_off_diag=abs(MatrixK[i,j])\n",
    "                k=i\n",
    "                l=j\n",
    "    return max_off_diag,k,l\n",
    "\n",
    "def Jacobi_rotation(MatrixK,N_iter,eps):\n",
    "    n=len(MatrixK)\n",
    "    eig_Vec=np.eye(n)\n",
    "    for i in range(N_iter):\n",
    "        max_off_diag,k,l=Max_off_Diag(MatrixK)\n",
    "        if max_off_diag<eps:\n",
    "            return np.diag(MatrixK),eig_Vec\n",
    "\n",
    "        phi=0.5*np.arctan2(2.0*MatrixK[k,l],MatrixK[l,l]-MatrixK[k,k])\n",
    "        c=np.cos(phi)\n",
    "        s=np.sin(phi)\n",
    "        P=np.eye(n)\n",
    "        P[k,k]=c\n",
    "        P[l,l]=c\n",
    "        P[k,l]=-s\n",
    "        P[l,k]=s\n",
    "        MatrixK=P.T@MatrixK@P\n",
    "        eig_Vec=eig_Vec@P\n",
    "    return np.diag(MatrixK),eig_Vec          "
   ]
  },
  {
   "cell_type": "markdown",
   "metadata": {},
   "source": [
    "For some reason, they are different"
   ]
  }
 ],
 "metadata": {
  "interpreter": {
   "hash": "f844e863be144792a7fa38f01854f805dc80e1f7605b5574c177aa3fd6c121ae"
  },
  "kernelspec": {
   "display_name": "Python 3.9.13 ('base')",
   "language": "python",
   "name": "python3"
  },
  "language_info": {
   "codemirror_mode": {
    "name": "ipython",
    "version": 3
   },
   "file_extension": ".py",
   "mimetype": "text/x-python",
   "name": "python",
   "nbconvert_exporter": "python",
   "pygments_lexer": "ipython3",
   "version": "3.9.13"
  },
  "orig_nbformat": 4
 },
 "nbformat": 4,
 "nbformat_minor": 2
}
