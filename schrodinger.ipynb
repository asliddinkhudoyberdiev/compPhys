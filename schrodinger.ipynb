{
 "cells": [
  {
   "cell_type": "code",
   "execution_count": 1,
   "metadata": {},
   "outputs": [],
   "source": [
    "import numpy as np\n",
    "from matplotlib import pyplot as plt\n",
    "import math\n",
    "from numpy.linalg import inv\n",
    "import numba\n",
    "from numba import jit"
   ]
  },
  {
   "cell_type": "markdown",
   "metadata": {},
   "source": [
    "\\begin{equation}\n",
    "i\\hbar \\partial_t\\psi(x,t)=\\left(-\\frac{\\hbar^2}{2m} \\vec{\\nabla}^2+\\frac{1}{2}m\\omega^2x^2 \\right)\\psi(x,t)=\\hat{H}\\psi(x,t) \\tag{1}\n",
    "\\end{equation}\n",
    "\n",
    "take out $\\frac{\\omega \\hbar}{2}$ from right hand side:\n",
    "\n",
    "\\begin{equation}\n",
    "i\\hbar \\partial_t\\psi(x,t)=\\frac{\\omega \\hbar}{2}\\left(-\\frac{\\hbar}{m\\omega} \\vec{\\nabla}^2+\\frac{m\\omega}{\\hbar}x^2 \\right)\\psi(x,t)=\\hat{H}\\psi(x,t)  \\tag{2}\n",
    "\\end{equation}\n",
    "\n",
    "We devide above equation by $\\hbar$. Then, introducing  $\\alpha^2=\\frac{m \\omega}{\\hbar}$, we get\n",
    "\n",
    "\\begin{equation}\n",
    "i\\partial_t\\psi(x,t)=\\frac{\\omega}{2}\\left(-\\frac{1}{\\alpha^2} \\frac{\\partial^2}{\\partial x^2} +\\alpha^2x^2 \\right)\\psi(x,t)=\\frac{1}{\\hbar}\\hat{H}\\psi(x,t)  \\tag{3}\n",
    "\\end{equation}\n",
    "\n",
    "Multipling  with   $2/\\omega$ and introducing new variables $\\xi=\\alpha x$, $\\tau=\\frac{\\omega t}{2}$ we get:\n",
    "\n",
    "\\begin{equation}\n",
    "i\\partial_\\tau\\psi=\\left(- \\frac{\\partial^2}{\\partial \\xi^2} +\\xi^2 \\right)\\psi=\\frac{2}{\\hbar\\omega} \\hat{H}\\psi=\\hat{\\tilde{H}}\\psi   \\tag{4}\n",
    "\\end{equation}\n",
    "where $\\hat{\\tilde{H}}=\\frac{2}{\\hbar\\omega} \\hat{H}$. Hence $\\beta=\\frac{2}{\\hbar\\omega}$.\n",
    "\n"
   ]
  },
  {
   "cell_type": "code",
   "execution_count": 10,
   "metadata": {},
   "outputs": [],
   "source": [
    "ksi_l=-10\n",
    "ksi_r=10\n",
    "dksi=0.1    # correspond to delta x\n",
    "dtau=0.005   #correspond to delta t\n",
    "xi = np.arange(ksi_l, ksi_r + dksi, dksi)  # range is from -10 to 10 with 0.1 step. 10 is alos included\n",
    "Nx = len(xi)    #number of steps\n",
    "Nt=201   #number of times\n",
    "\n",
    "I = np.eye(Nt,dtype=complex)\n"
   ]
  },
  {
   "cell_type": "code",
   "execution_count": 11,
   "metadata": {},
   "outputs": [],
   "source": [
    "psi_0=np.zeros((Nt,Nx))\n",
    "H=np.zeros((Nt,Nx),dtype=complex)"
   ]
  },
  {
   "cell_type": "code",
   "execution_count": 16,
   "metadata": {},
   "outputs": [
    {
     "name": "stdout",
     "output_type": "stream",
     "text": [
      "[[ 200.  +0.j -100.  +0.j    0.  +0.j ...    0.  +0.j    0.  +0.j\n",
      "     0.  +0.j]\n",
      " [-100.  +0.j  200.01+0.j -100.  +0.j ...    0.  +0.j    0.  +0.j\n",
      "     0.  +0.j]\n",
      " [   0.  +0.j -100.  +0.j  200.04+0.j ...    0.  +0.j    0.  +0.j\n",
      "     0.  +0.j]\n",
      " ...\n",
      " [   0.  +0.j    0.  +0.j    0.  +0.j ...  592.04+0.j -100.  +0.j\n",
      "     0.  +0.j]\n",
      " [   0.  +0.j    0.  +0.j    0.  +0.j ... -100.  +0.j  596.01+0.j\n",
      "  -100.  +0.j]\n",
      " [   0.  +0.j    0.  +0.j    0.  +0.j ...    0.  +0.j -100.  +0.j\n",
      "   600.  +0.j]]\n"
     ]
    }
   ],
   "source": [
    "for n in range(Nx):\n",
    "    if n>0:\n",
    "        H[n,n-1]=-1/dksi**2\n",
    "    if n<Nx-1:\n",
    "        H[n,n+1]=-1/dksi**2\n",
    "    H[n,n]=2/dksi**2+dksi**2*n**2\n",
    "\n",
    "print(H)"
   ]
  },
  {
   "cell_type": "code",
   "execution_count": 15,
   "metadata": {},
   "outputs": [
    {
     "name": "stdout",
     "output_type": "stream",
     "text": [
      "[[ 5.78947378e-001+7.18562228e-001j  2.83645847e-001-2.47086031e-001j\n",
      "  -2.32831971e-002-7.81756119e-002j ... -1.09943305e-143-7.53936353e-144j\n",
      "  -1.87066556e-144+1.49187831e-146j -2.14698427e-145+1.45618749e-145j]\n",
      " [ 2.83645847e-001-2.47086031e-001j  5.55635817e-001+6.40411324e-001j\n",
      "   2.66136053e-001-2.49484012e-001j ...  8.16879316e-144-5.90560490e-143j\n",
      "  -3.80100624e-144-7.45282466e-144j -1.01187185e-144-5.67556211e-145j]\n",
      " [-2.32831971e-002-7.81756119e-002j  2.66136053e-001-2.49484012e-001j\n",
      "   5.53517966e-001+6.43726852e-001j ...  2.63556930e-142-7.79034675e-143j\n",
      "   2.40795716e-143-3.01253384e-143j  4.61078388e-145-5.32827532e-144j]\n",
      " ...\n",
      " [-1.09943305e-143-7.53936353e-144j  8.16879316e-144-5.90560490e-143j\n",
      "   2.63556930e-142-7.79034675e-143j ... -3.30000073e-001+9.15922562e-001j\n",
      "   1.50645992e-001+5.16279103e-002j  2.13536075e-002-5.63108664e-003j]\n",
      " [-1.87066556e-144+1.49187831e-146j -3.80100624e-144-7.45282466e-144j\n",
      "   2.40795716e-143-3.01253384e-143j ...  1.50645992e-001+5.16279103e-002j\n",
      "  -3.36253972e-001+9.14601663e-001j  1.46940054e-001+5.44735744e-002j]\n",
      " [-2.14698427e-145+1.45618749e-145j -1.01187185e-144-5.67556211e-145j\n",
      "   4.61078388e-145-5.32827532e-144j ...  2.13536075e-002-5.63108664e-003j\n",
      "   1.46940054e-001+5.44735744e-002j -3.63470488e-001+9.18059254e-001j]]\n"
     ]
    }
   ],
   "source": [
    "A=I-1j*H*dtau/2\n",
    "B=I+1j*H*dtau/2\n",
    "\n",
    "S_H=np.linalg.inv(A).dot(B)\n",
    "print(S_H)"
   ]
  },
  {
   "cell_type": "code",
   "execution_count": 125,
   "metadata": {},
   "outputs": [],
   "source": [
    "def boundary_cond(psi):\n",
    "    psi_0=np.copy(psi)\n",
    "    psi_0[:,0]=0\n",
    "    psi_0[:,-1]=0\n",
    "    return psi_0"
   ]
  },
  {
   "cell_type": "code",
   "execution_count": 126,
   "metadata": {},
   "outputs": [],
   "source": [
    "#@numba.jit(\"c16[:,:](c16[:,:])\",nopython=True,nogil=True)\n",
    "def Crank_Nic_Ver(psii):\n",
    "  \n",
    "    psi_new=boundary_cond(psii)\n",
    "    for n in range(Nt):\n",
    "       for m in range(Nx):\n",
    "           H[n,m]=-1.0/dksi**2*(psi_new[n,m-1]+psi_new[n,m+1]-2.0*psi_new[n,m])+dksi**2*n**2*psi_new[n,m]\n",
    "           psi_new[n+1,m]= np.linalg.inv(I+1j/2.0*dtau*(H[n,m])).dot(I-1j/2.0*dtau*H[n,m])*psi_new[n,m]             \n",
    "    return psi_new"
   ]
  },
  {
   "cell_type": "code",
   "execution_count": 127,
   "metadata": {},
   "outputs": [
    {
     "ename": "ValueError",
     "evalue": "setting an array element with a sequence.",
     "output_type": "error",
     "traceback": [
      "\u001b[0;31m---------------------------------------------------------------------------\u001b[0m",
      "\u001b[0;31mTypeError\u001b[0m                                 Traceback (most recent call last)",
      "\u001b[0;31mTypeError\u001b[0m: only size-1 arrays can be converted to Python scalars",
      "\nThe above exception was the direct cause of the following exception:\n",
      "\u001b[0;31mValueError\u001b[0m                                Traceback (most recent call last)",
      "\u001b[0;32m/tmp/ipykernel_12774/1649652471.py\u001b[0m in \u001b[0;36m<module>\u001b[0;34m\u001b[0m\n\u001b[0;32m----> 1\u001b[0;31m \u001b[0mresult\u001b[0m\u001b[0;34m=\u001b[0m\u001b[0mCrank_Nic_Ver\u001b[0m\u001b[0;34m(\u001b[0m\u001b[0mpsi_0\u001b[0m\u001b[0;34m)\u001b[0m\u001b[0;34m\u001b[0m\u001b[0;34m\u001b[0m\u001b[0m\n\u001b[0m",
      "\u001b[0;32m/tmp/ipykernel_12774/4212646419.py\u001b[0m in \u001b[0;36mCrank_Nic_Ver\u001b[0;34m(psii)\u001b[0m\n\u001b[1;32m      6\u001b[0m        \u001b[0;32mfor\u001b[0m \u001b[0mm\u001b[0m \u001b[0;32min\u001b[0m \u001b[0mrange\u001b[0m\u001b[0;34m(\u001b[0m\u001b[0mNx\u001b[0m\u001b[0;34m)\u001b[0m\u001b[0;34m:\u001b[0m\u001b[0;34m\u001b[0m\u001b[0;34m\u001b[0m\u001b[0m\n\u001b[1;32m      7\u001b[0m            \u001b[0mH\u001b[0m\u001b[0;34m[\u001b[0m\u001b[0mn\u001b[0m\u001b[0;34m,\u001b[0m\u001b[0mm\u001b[0m\u001b[0;34m]\u001b[0m\u001b[0;34m=\u001b[0m\u001b[0;34m-\u001b[0m\u001b[0;36m1.0\u001b[0m\u001b[0;34m/\u001b[0m\u001b[0mdksi\u001b[0m\u001b[0;34m**\u001b[0m\u001b[0;36m2\u001b[0m\u001b[0;34m*\u001b[0m\u001b[0;34m(\u001b[0m\u001b[0mpsi_new\u001b[0m\u001b[0;34m[\u001b[0m\u001b[0mn\u001b[0m\u001b[0;34m,\u001b[0m\u001b[0mm\u001b[0m\u001b[0;34m-\u001b[0m\u001b[0;36m1\u001b[0m\u001b[0;34m]\u001b[0m\u001b[0;34m+\u001b[0m\u001b[0mpsi_new\u001b[0m\u001b[0;34m[\u001b[0m\u001b[0mn\u001b[0m\u001b[0;34m,\u001b[0m\u001b[0mm\u001b[0m\u001b[0;34m+\u001b[0m\u001b[0;36m1\u001b[0m\u001b[0;34m]\u001b[0m\u001b[0;34m-\u001b[0m\u001b[0;36m2.0\u001b[0m\u001b[0;34m*\u001b[0m\u001b[0mpsi_new\u001b[0m\u001b[0;34m[\u001b[0m\u001b[0mn\u001b[0m\u001b[0;34m,\u001b[0m\u001b[0mm\u001b[0m\u001b[0;34m]\u001b[0m\u001b[0;34m)\u001b[0m\u001b[0;34m+\u001b[0m\u001b[0mdksi\u001b[0m\u001b[0;34m**\u001b[0m\u001b[0;36m2\u001b[0m\u001b[0;34m*\u001b[0m\u001b[0mn\u001b[0m\u001b[0;34m**\u001b[0m\u001b[0;36m2\u001b[0m\u001b[0;34m*\u001b[0m\u001b[0mpsi_new\u001b[0m\u001b[0;34m[\u001b[0m\u001b[0mn\u001b[0m\u001b[0;34m,\u001b[0m\u001b[0mm\u001b[0m\u001b[0;34m]\u001b[0m\u001b[0;34m\u001b[0m\u001b[0;34m\u001b[0m\u001b[0m\n\u001b[0;32m----> 8\u001b[0;31m            \u001b[0mpsi_new\u001b[0m\u001b[0;34m[\u001b[0m\u001b[0mn\u001b[0m\u001b[0;34m+\u001b[0m\u001b[0;36m1\u001b[0m\u001b[0;34m,\u001b[0m\u001b[0mm\u001b[0m\u001b[0;34m]\u001b[0m\u001b[0;34m=\u001b[0m \u001b[0mnp\u001b[0m\u001b[0;34m.\u001b[0m\u001b[0mlinalg\u001b[0m\u001b[0;34m.\u001b[0m\u001b[0minv\u001b[0m\u001b[0;34m(\u001b[0m\u001b[0mI\u001b[0m\u001b[0;34m+\u001b[0m\u001b[0;36m1j\u001b[0m\u001b[0;34m/\u001b[0m\u001b[0;36m2.0\u001b[0m\u001b[0;34m*\u001b[0m\u001b[0mdtau\u001b[0m\u001b[0;34m*\u001b[0m\u001b[0;34m(\u001b[0m\u001b[0mH\u001b[0m\u001b[0;34m[\u001b[0m\u001b[0mn\u001b[0m\u001b[0;34m,\u001b[0m\u001b[0mm\u001b[0m\u001b[0;34m]\u001b[0m\u001b[0;34m)\u001b[0m\u001b[0;34m)\u001b[0m\u001b[0;34m.\u001b[0m\u001b[0mdot\u001b[0m\u001b[0;34m(\u001b[0m\u001b[0mI\u001b[0m\u001b[0;34m-\u001b[0m\u001b[0;36m1j\u001b[0m\u001b[0;34m/\u001b[0m\u001b[0;36m2.0\u001b[0m\u001b[0;34m*\u001b[0m\u001b[0mdtau\u001b[0m\u001b[0;34m*\u001b[0m\u001b[0mH\u001b[0m\u001b[0;34m[\u001b[0m\u001b[0mn\u001b[0m\u001b[0;34m,\u001b[0m\u001b[0mm\u001b[0m\u001b[0;34m]\u001b[0m\u001b[0;34m)\u001b[0m\u001b[0;34m*\u001b[0m\u001b[0mpsi_new\u001b[0m\u001b[0;34m[\u001b[0m\u001b[0mn\u001b[0m\u001b[0;34m,\u001b[0m\u001b[0mm\u001b[0m\u001b[0;34m]\u001b[0m\u001b[0;34m\u001b[0m\u001b[0;34m\u001b[0m\u001b[0m\n\u001b[0m\u001b[1;32m      9\u001b[0m     \u001b[0;32mreturn\u001b[0m \u001b[0mpsi_new\u001b[0m\u001b[0;34m\u001b[0m\u001b[0;34m\u001b[0m\u001b[0m\n",
      "\u001b[0;31mValueError\u001b[0m: setting an array element with a sequence."
     ]
    }
   ],
   "source": [
    "result=Crank_Nic_Ver(psi_0)"
   ]
  }
 ],
 "metadata": {
  "kernelspec": {
   "display_name": "Python 3",
   "language": "python",
   "name": "python3"
  },
  "language_info": {
   "codemirror_mode": {
    "name": "ipython",
    "version": 3
   },
   "file_extension": ".py",
   "mimetype": "text/x-python",
   "name": "python",
   "nbconvert_exporter": "python",
   "pygments_lexer": "ipython3",
   "version": "3.9.13"
  }
 },
 "nbformat": 4,
 "nbformat_minor": 2
}
