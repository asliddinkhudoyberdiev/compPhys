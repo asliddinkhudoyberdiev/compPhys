{
 "cells": [
  {
   "cell_type": "code",
   "execution_count": 196,
   "metadata": {},
   "outputs": [],
   "source": [
    "import numpy as np\n",
    "from matplotlib import pyplot as plt\n",
    "import math\n",
    "from numpy.linalg import inv\n"
   ]
  },
  {
   "cell_type": "markdown",
   "metadata": {},
   "source": [
    "# a)"
   ]
  },
  {
   "cell_type": "markdown",
   "metadata": {},
   "source": [
    "\\begin{equation}\n",
    "i\\hbar \\partial_t\\psi(x,t)=\\left(-\\frac{\\hbar^2}{2m} \\vec{\\nabla}^2+\\frac{1}{2}m\\omega^2x^2 \\right)\\psi(x,t)=\\hat{H}\\psi(x,t) \\tag{1}\n",
    "\\end{equation}\n",
    "\n",
    "take out $\\frac{\\omega \\hbar}{2}$ from right hand side:\n",
    "\n",
    "\\begin{equation}\n",
    "i\\hbar \\partial_t\\psi(x,t)=\\frac{\\omega \\hbar}{2}\\left(-\\frac{\\hbar}{m\\omega} \\vec{\\nabla}^2+\\frac{m\\omega}{\\hbar}x^2 \\right)\\psi(x,t)=\\hat{H}\\psi(x,t)  \\tag{2}\n",
    "\\end{equation}\n",
    "\n",
    "We devide above equation by $\\hbar$. Then, introducing  $\\alpha^2=\\frac{m \\omega}{\\hbar}$, we get\n",
    "\n",
    "\\begin{equation}\n",
    "i\\partial_t\\psi(x,t)=\\frac{\\omega}{2}\\left(-\\frac{1}{\\alpha^2} \\frac{\\partial^2}{\\partial x^2} +\\alpha^2x^2 \\right)\\psi(x,t)=\\frac{1}{\\hbar}\\hat{H}\\psi(x,t)  \\tag{3}\n",
    "\\end{equation}\n",
    "\n",
    "Multipling  with   $2/\\omega$ and introducing new variables $\\xi=\\alpha x$, $\\tau=\\frac{\\omega t}{2}$ we get:\n",
    "\n",
    "\\begin{equation}\n",
    "i\\partial_\\tau\\psi=\\left(- \\frac{\\partial^2}{\\partial \\xi^2} +\\xi^2 \\right)\\psi=\\frac{2}{\\hbar\\omega} \\hat{H}\\psi=\\hat{\\tilde{H}}\\psi   \\tag{4}\n",
    "\\end{equation}\n",
    "where $\\hat{\\tilde{H}}=\\frac{2}{\\hbar\\omega} \\hat{H}$. Hence $\\beta=\\frac{2}{\\hbar\\omega}$.\n",
    "\n"
   ]
  },
  {
   "cell_type": "markdown",
   "metadata": {},
   "source": [
    "# b)"
   ]
  },
  {
   "cell_type": "code",
   "execution_count": 197,
   "metadata": {},
   "outputs": [
    {
     "name": "stdout",
     "output_type": "stream",
     "text": [
      "201\n"
     ]
    }
   ],
   "source": [
    "ksi_l=-10\n",
    "ksi_r=10\n",
    "dksi=0.1    # correspond to delta x\n",
    "dtau=0.005   #correspond to delta t\n",
    "xi = np.arange(ksi_l, ksi_r + dksi, dksi)  # range is from -10 to 10 with 0.1 step. 10 is alos included\n",
    "Nx = len(xi)    #number of steps\n",
    "Nt=201   #number of time steps\n",
    "print(Nx)\n",
    "I = np.eye(Nt,dtype=complex)\n"
   ]
  },
  {
   "cell_type": "code",
   "execution_count": 198,
   "metadata": {},
   "outputs": [],
   "source": [
    "H=np.zeros((Nt,Nx),dtype=complex)"
   ]
  },
  {
   "cell_type": "code",
   "execution_count": 199,
   "metadata": {},
   "outputs": [],
   "source": [
    "def Hamilton(N_time,N_xi):\n",
    "\n",
    "    for n in range(N_time):\n",
    "        for m in range(N_xi):\n",
    "\n",
    "            if m==n-1:\n",
    "                H[n,n-1]=-1/dksi**2\n",
    "            if m==n+1:\n",
    "                H[n,n+1]=-1/dksi**2\n",
    "            H[n,m]=2/dksi**2+dksi**2*n**2\n",
    "    return H\n"
   ]
  },
  {
   "cell_type": "code",
   "execution_count": 200,
   "metadata": {},
   "outputs": [
    {
     "name": "stdout",
     "output_type": "stream",
     "text": [
      "[[ 0.99403603+3.55702382e-05j -0.00596397+3.55702382e-05j\n",
      "  -0.00596397+3.55702382e-05j ... -0.00596397+3.55702382e-05j\n",
      "  -0.00596397+3.55702382e-05j -0.00596397+3.55702382e-05j]\n",
      " [-0.00596427+3.55720168e-05j  0.99403573+3.55720168e-05j\n",
      "  -0.00596427+3.55720168e-05j ... -0.00596427+3.55720168e-05j\n",
      "  -0.00596427+3.55720168e-05j -0.00596427+3.55720168e-05j]\n",
      " [-0.00596517+3.55773523e-05j -0.00596517+3.55773523e-05j\n",
      "   0.99403483+3.55773523e-05j ... -0.00596517+3.55773523e-05j\n",
      "  -0.00596517+3.55773523e-05j -0.00596517+3.55773523e-05j]\n",
      " ...\n",
      " [-0.01765455+1.05295019e-04j -0.01765455+1.05295019e-04j\n",
      "  -0.01765455+1.05295019e-04j ...  0.98234545+1.05295019e-04j\n",
      "  -0.01765455+1.05295019e-04j -0.01765455+1.05295019e-04j]\n",
      " [-0.01777294+1.06001088e-04j -0.01777294+1.06001088e-04j\n",
      "  -0.01777294+1.06001088e-04j ... -0.01777294+1.06001088e-04j\n",
      "   0.98222706+1.06001088e-04j -0.01777294+1.06001088e-04j]\n",
      " [-0.01789192+1.06710715e-04j -0.01789192+1.06710715e-04j\n",
      "  -0.01789192+1.06710715e-04j ... -0.01789192+1.06710715e-04j\n",
      "  -0.01789192+1.06710715e-04j  0.98210808+1.06710715e-04j]]\n"
     ]
    }
   ],
   "source": [
    "Mat_min=I-1j*Hamilton(Nt,Nx)*dtau/2\n",
    "Mat_pul=I+1j*Hamilton(Nt,Nx)*dtau/2\n",
    "\n",
    "S_H=np.dot(np.linalg.inv(Mat_min),Mat_pul)\n",
    "print(S_H)"
   ]
  },
  {
   "cell_type": "code",
   "execution_count": 201,
   "metadata": {},
   "outputs": [],
   "source": [
    "def wave_func(N_t,psi_0):\n",
    "    psi_new=np.copy(psi_0)\n",
    "    for n in range(N_t):\n",
    "        psi_new=np.dot(S_H,psi_new)\n",
    "    return psi_new\n"
   ]
  },
  {
   "cell_type": "markdown",
   "metadata": {},
   "source": [
    "# c)"
   ]
  },
  {
   "cell_type": "code",
   "execution_count": 202,
   "metadata": {},
   "outputs": [
    {
     "data": {
      "image/png": "[encoded data removed]",
      "text/plain": [
       "<Figure size 640x480 with 1 Axes>"
      ]
     },
     "metadata": {},
     "output_type": "display_data"
    }
   ],
   "source": [
    "psi0=(1/2/np.pi)**0.25*np.exp(-(xi-1)**2/4)\n",
    "plt.plot(xi,psi0,'*')\n",
    "plt.ylabel(r'$\\psi_0 (\\xi,0)$')\n",
    "plt.xlabel(r'$\\xi$')\n",
    "plt.show()\n"
   ]
  },
  {
   "cell_type": "markdown",
   "metadata": {},
   "source": [
    "Discretization is done from -10 to 10 with 0.1 steps with 201 steps\n",
    "$\\xi_j=j\\Delta \\xi$\n"
   ]
  },
  {
   "cell_type": "code",
   "execution_count": 203,
   "metadata": {},
   "outputs": [
    {
     "name": "stdout",
     "output_type": "stream",
     "text": [
      "Norm of wave function= 1.0000000000000033\n"
     ]
    }
   ],
   "source": [
    "\n",
    "norm=np.sum(np.abs(psi0)**2)*dksi\n",
    "print(\"Norm of wave function=\",norm)\n"
   ]
  },
  {
   "cell_type": "markdown",
   "metadata": {},
   "source": [
    "# d)"
   ]
  },
  {
   "cell_type": "code",
   "execution_count": 218,
   "metadata": {},
   "outputs": [
    {
     "name": "stdout",
     "output_type": "stream",
     "text": [
      "1.0212313957769705\n",
      "[-0.01764377+0.04521996j -0.01764465+0.04522222j -0.0176473 +0.045229j\n",
      " -0.01765171+0.04524031j -0.01765789+0.04525614j -0.01766582+0.04527649j\n",
      " -0.01767553+0.04530136j -0.017687  +0.04533075j -0.01770023+0.04536466j\n",
      " -0.01771523+0.0454031j  -0.01773199+0.04544606j -0.01775051+0.04549354j\n",
      " -0.01777081+0.04554554j -0.01779286+0.04560207j -0.01781668+0.04566312j\n",
      " -0.01784226+0.04572868j -0.01786961+0.04579878j -0.01789872+0.04587339j\n",
      " -0.0179296 +0.04595252j -0.01796224+0.04603618j -0.01799664+0.04612436j\n",
      " -0.01803281+0.04621706j -0.01807075+0.04631428j -0.01811044+0.04641603j\n",
      " -0.0181519 +0.0465223j  -0.01819513+0.04663308j -0.01824012+0.0467484j\n",
      " -0.01828686+0.04686823j -0.01833537+0.04699258j -0.01838564+0.04712146j\n",
      " -0.01843767+0.04725486j -0.01849145+0.04739278j -0.01854697+0.04753522j\n",
      " -0.01860424+0.04768219j -0.01866324+0.04783367j -0.01872396+0.04798968j\n",
      " -0.01878637+0.04815021j -0.01885045+0.04831527j -0.01891616+0.04848484j\n",
      " -0.01898345+0.04865894j -0.01905225+0.04883756j -0.01912245+0.0490207j\n",
      " -0.01919392+0.04920836j -0.01926649+0.04940055j -0.01933991+0.04959725j\n",
      " -0.01941386+0.04979848j -0.01948792+0.05000423j -0.01956154+0.05021451j\n",
      " -0.01963398+0.0504293j  -0.0197043 +0.05064862j -0.01977129+0.05087246j\n",
      " -0.01983339+0.05110082j -0.01988859+0.0513337j  -0.01993438+0.0515711j\n",
      " -0.01996758+0.05181303j -0.01998422+0.05205948j -0.01997934+0.05231045j\n",
      " -0.01994685+0.05256594j -0.01987926+0.05282596j -0.01976744+0.05309049j\n",
      " -0.01960034+0.05335955j -0.01936468+0.05363313j -0.0190446 +0.05391124j\n",
      " -0.01862132+0.05419386j -0.01807274+0.05448101j -0.01737305+0.05477268j\n",
      " -0.01649234+0.05506887j -0.01539624+0.05536958j -0.01404557+0.05567482j\n",
      " -0.01239603+0.05598457j -0.01039799+0.05629885j -0.00799636+0.05661765j\n",
      " -0.00513058+0.05694097j -0.00173475+0.05726882j  0.00226202+0.05760119j\n",
      "  0.00693512+0.05793807j  0.01236369+0.05827948j  0.01862958+0.05862542j\n",
      "  0.02581612+0.05897587j  0.03400659+0.05933085j  0.04328235+0.05969035j\n",
      "  0.05372085+0.06005437j  0.06539322+0.06042291j  0.07836181+0.06079598j\n",
      "  0.0926775 +0.06117356j  0.10837691+0.06155567j  0.12547959+0.0619423j\n",
      "  0.14398533+0.06233345j  0.16387156+0.06272913j  0.18509108+0.06312933j\n",
      "  0.20757007+0.06353404j  0.23120667+0.06394329j  0.25587009+0.06435705j\n",
      "  0.2814004 +0.06477533j  0.30760901+0.06519814j  0.33428001+0.06562547j\n",
      "  0.36117232+0.06605732j  0.38802262+0.06649369j  0.41454916+0.06693459j\n",
      "  0.44045627+0.06738j     0.46543954+0.06782994j  0.48919154+0.0682844j\n",
      "  0.51140796+0.06874338j  0.53179395+0.06920689j  0.55007058+0.06967492j\n",
      "  0.56598103+0.07014746j  0.57929661+0.07062453j  0.5898221 +0.07110613j\n",
      "  0.59740045+0.07159224j  0.60191665+0.07208288j  0.60330053+0.07257804j\n",
      "  0.60152849+0.07307772j  0.59662412+0.07358192j  0.58865761+0.07409064j\n",
      "  0.57774396+0.07460389j  0.56404022+0.07512166j  0.5477416 +0.07564395j\n",
      "  0.52907681+0.07617076j  0.50830266+0.0767021j   0.48569808+0.07723795j\n",
      "  0.46155791+0.07777833j  0.43618648+0.07832323j  0.4098912 +0.07887265j\n",
      "  0.3829765 +0.0794266j   0.35573803+0.07998507j  0.32845757+0.08054805j\n",
      "  0.3013984 +0.08111557j  0.27480163+0.0816876j   0.24888316+0.08226415j\n",
      "  0.22383157+0.08284523j  0.19980681+0.08343083j  0.17693966+0.08402095j\n",
      "  0.15533198+0.08461559j  0.13505758+0.08521475j  0.11616367+0.08581844j\n",
      "  0.09867283+0.08642665j  0.08258527+0.08703938j  0.06788141+0.08765663j\n",
      "  0.05452466+0.08827841j  0.04246412+0.0889047j   0.03163746+0.08953552j\n",
      "  0.02197353+0.09017086j  0.01339491+0.09081072j  0.0058202 +0.09145511j\n",
      " -0.00083385+0.09210402j -0.00665058+0.09275744j -0.01171185+0.09341539j\n",
      " -0.01609678+0.09407787j -0.01988077+0.09474486j -0.02313472+0.09541638j\n",
      " -0.02592451+0.09609242j -0.02831071+0.09677298j -0.03034841+0.09745806j\n",
      " -0.03208725+0.09814766j -0.03357151+0.09884179j -0.03484038+0.09954044j\n",
      " -0.03592824+0.10024361j -0.03686498+0.1009513j  -0.03767642+0.10166352j\n",
      " -0.03838466+0.10238025j -0.03900848+0.10310151j -0.03956375+0.10382729j\n",
      " -0.04006373+0.10455759j -0.04051949+0.10529242j -0.04094014+0.10603176j\n",
      " -0.04133318+0.10677563j -0.04170471+0.10752402j -0.04205967+0.10827693j\n",
      " -0.04240204+0.10903437j -0.042735  +0.10979632j -0.04306107+0.1105628j\n",
      " -0.04338224+0.1113338j  -0.04370008+0.11210933j -0.0440158 +0.11288937j\n",
      " -0.04433035+0.11367394j -0.04464445+0.11446302j -0.04495867+0.11525664j\n",
      " -0.04527341+0.11605477j -0.045589  +0.11685742j -0.04590569+0.1176646j\n",
      " -0.04622366+0.1184763j  -0.04654302+0.11929252j -0.0468639 +0.12011326j\n",
      " -0.04718635+0.12093852j -0.04751043+0.12176831j -0.04783618+0.12260262j\n",
      " -0.04816363+0.12344145j -0.04849279+0.1242848j  -0.04882368+0.12513267j\n",
      " -0.04915632+0.12598507j -0.0494907 +0.12684199j -0.04982684+0.12770343j\n",
      " -0.05016474+0.12856939j -0.05050439+0.12943988j -0.0508458 +0.13031488j\n",
      " -0.05118898+0.13119441j -0.05153392+0.13207846j -0.05188062+0.13296703j\n",
      " -0.05222909+0.13386013j -0.05257932+0.13475774j -0.05293131+0.13565988j]\n"
     ]
    }
   ],
   "source": [
    "psi=np.zeros([Nt,Nx])\n",
    "#psi[0]=psi0\n",
    "psi_new=wave_func(Nt,psi0)\n",
    "norm_each=np.sum(np.abs(psi_new)**2)*dksi\n",
    "print(norm_each)\n",
    "print(psi_new)\n",
    "\n"
   ]
  },
  {
   "cell_type": "code",
   "execution_count": null,
   "metadata": {},
   "outputs": [],
   "source": []
  }
 ],
 "metadata": {
  "kernelspec": {
   "display_name": "Python 3",
   "language": "python",
   "name": "python3"
  },
  "language_info": {
   "codemirror_mode": {
    "name": "ipython",
    "version": 3
   },
   "file_extension": ".py",
   "mimetype": "text/x-python",
   "name": "python",
   "nbconvert_exporter": "python",
   "pygments_lexer": "ipython3",
   "version": "3.10.12"
  }
 },
 "nbformat": 4,
 "nbformat_minor": 2
}
