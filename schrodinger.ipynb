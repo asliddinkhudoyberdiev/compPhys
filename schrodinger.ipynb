{
 "cells": [
  {
   "cell_type": "code",
   "execution_count": 2,
   "metadata": {},
   "outputs": [],
   "source": [
    "import numpy as np\n",
    "from matplotlib import pyplot as plt\n",
    "import math"
   ]
  },
  {
   "cell_type": "markdown",
   "metadata": {},
   "source": [
    "\\begin{equation}\n",
    "i\\hbar \\partial_t\\psi(x,t)=\\left(-\\frac{\\hbar^2}{2m} \\vec{\\nabla}^2+\\frac{1}{2}m\\omega^2x^2 \\right)\\psi(x,t)=\\hat{H}\\psi(x,t) \\tag{1}\n",
    "\\end{equation}\n",
    "\n",
    "take out $\\frac{\\omega \\hbar}{2}$ from right hand side:\n",
    "\n",
    "\\begin{equation}\n",
    "i\\hbar \\partial_t\\psi(x,t)=\\frac{\\omega \\hbar}{2}\\left(-\\frac{\\hbar}{m\\omega} \\vec{\\nabla}^2+\\frac{m\\omega}{\\hbar}x^2 \\right)\\psi(x,t)=\\hat{H}\\psi(x,t)  \\tag{2}\n",
    "\\end{equation}\n",
    "\n",
    "We devide above equation by $\\hbar$. Then, introducing  $\\alpha^2=\\frac{m \\omega}{\\hbar}$, we get\n",
    "\n",
    "\\begin{equation}\n",
    "i\\partial_t\\psi(x,t)=\\frac{\\omega}{2}\\left(-\\frac{1}{\\alpha^2} \\frac{\\partial^2}{\\partial x^2} +\\alpha^2x^2 \\right)\\psi(x,t)=\\frac{1}{\\hbar}\\hat{H}\\psi(x,t)  \\tag{3}\n",
    "\\end{equation}\n",
    "\n",
    "Multipling  with   $2/\\omega$ and introducing new variables $\\xi=\\alpha x$, $\\tau=\\frac{\\omega t}{2}$ we get:\n",
    "\n",
    "\\begin{equation}\n",
    "i\\partial_\\tau\\psi=\\left(- \\frac{\\partial^2}{\\partial \\xi^2} +\\xi^2 \\right)\\psi=\\frac{2}{\\hbar\\omega} \\hat{H}\\psi=\\hat{\\tilde{H}}\\psi   \\tag{4}\n",
    "\\end{equation}\n",
    "where $\\hat{\\tilde{H}}=\\frac{2}{\\hbar\\omega} \\hat{H}$. Hence $\\beta=\\frac{2}{\\hbar\\omega}$.\n",
    "\n"
   ]
  },
  {
   "cell_type": "code",
   "execution_count": 8,
   "metadata": {},
   "outputs": [],
   "source": [
    "ksi_l=-10\n",
    "ksi_r=10\n",
    "dksi=0.1\n",
    "dtau=0.05\n",
    "xi = np.arange(ksi_l, ksi_r + dksi, dksi)\n",
    "N = len(xi)\n",
    "H=np.zeros((N,N))\n",
    "I = np.eye(N)\n",
    "\n",
    "\n"
   ]
  },
  {
   "cell_type": "code",
   "execution_count": 9,
   "metadata": {},
   "outputs": [],
   "source": [
    "def Hamiltonian(n,m,psi):\n",
    "    H[n,m]=-1.0/dksi**2*(psi[n,m-1]+psi[n,m+1]-2.0*psi[n,m])+dksi**2*n**2*psi[n,m]\n",
    "    return H\n"
   ]
  },
  {
   "cell_type": "code",
   "execution_count": 10,
   "metadata": {},
   "outputs": [],
   "source": [
    "def Crank_Nic_Ver(psii):\n",
    "    \n",
    "    psi_new=np.copy(psii)\n",
    "    for n in range(N):\n",
    "       for m in range(N):\n",
    "           psi_new[n,m]= np.linalg.inv(I+1j/2.0*dtau*Hamiltonian[n,m,psii])*(I-1j/2.0*dtau*Hamiltonian[n,m,psii])\n",
    "             \n",
    "    return psi_new"
   ]
  },
  {
   "cell_type": "code",
   "execution_count": null,
   "metadata": {},
   "outputs": [],
   "source": []
  }
 ],
 "metadata": {
  "kernelspec": {
   "display_name": "Python 3",
   "language": "python",
   "name": "python3"
  },
  "language_info": {
   "codemirror_mode": {
    "name": "ipython",
    "version": 3
   },
   "file_extension": ".py",
   "mimetype": "text/x-python",
   "name": "python",
   "nbconvert_exporter": "python",
   "pygments_lexer": "ipython3",
   "version": "3.10.12"
  }
 },
 "nbformat": 4,
 "nbformat_minor": 2
}
